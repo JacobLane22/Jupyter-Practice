{
 "cells": [
  {
   "cell_type": "markdown",
   "metadata": {},
   "source": [
    "<center>\n",
    "    <img src=\"https://cf-courses-data.s3.us.cloud-object-storage.appdomain.cloud/IBMDeveloperSkillsNetwork-DS0105EN-SkillsNetwork/labs/Module2/images/SN_web_lightmode.png\" width=\"300\" alt=\"cognitiveclass.ai logo\">\n",
    "</center>\n"
   ]
  },
  {
   "cell_type": "markdown",
   "metadata": {},
   "source": [
    "#### Add your code below following the instructions given in the course\n"
   ]
  },
  {
   "cell_type": "markdown",
   "metadata": {},
   "source": [
    "# Jupyter Practice"
   ]
  },
  {
   "cell_type": "markdown",
   "metadata": {},
   "source": [
    "Introduction"
   ]
  },
  {
   "cell_type": "markdown",
   "metadata": {},
   "source": [
    "* Python\n",
    "* R\n",
    "* SQL\n",
    "* Julia\n",
    "* Scala\n",
    "* Java\n",
    "* MATLAB"
   ]
  },
  {
   "cell_type": "markdown",
   "metadata": {},
   "source": [
    "* NumPy\n",
    "* Pandas\n",
    "* Matplotlib\n",
    "* TensorFlow\n",
    "* PyTorch"
   ]
  },
  {
   "cell_type": "markdown",
   "metadata": {},
   "source": [
    "| Tool | Type | Description |\n",
    "|------|------|-------------|\n",
    "| Python | Programming Language | Widely used for data analysis and machine learning |\n",
    "| R | Programming Language | Used for statistical computing and graphics |\n",
    "| Jupyter Notebook | IDE | Interactive development environment for data science |\n",
    "| Tableau | Visualization Tool | Tool for data visualization and business intelligence |\n",
    "| SQL | Database Query Language | Used for managing and querying relational databases |\n",
    "| TensorFlow | Machine Learning Library | Open-source software library for machine learning |\n",
    "| Hadoop | Big Data Framework | Framework for distributed storage and processing of big data |\n",
    "| Git | Version Control System | Used for source code management |"
   ]
  },
  {
   "cell_type": "markdown",
   "metadata": {},
   "source": [
    "In this section, we will explore various arithmetic expression examples.\n",
    "Example expressions:\n",
    "- `3 + 4`\n",
    "- `10 - 5`\n",
    "- `2 * 6`\n",
    "- `8 / 2`"
   ]
  },
  {
   "cell_type": "code",
   "execution_count": 1,
   "metadata": {
    "tags": []
   },
   "outputs": [
    {
     "name": "stdout",
     "output_type": "stream",
     "text": [
      "Result: 17\n"
     ]
    }
   ],
   "source": [
    "# Define the numbers\n",
    "num1 = 5\n",
    "num2 = 3\n",
    "num3 = 2\n",
    "\n",
    "# Multiply num1 and num2, then add num3\n",
    "result = (num1 * num2) + num3\n",
    "\n",
    "# Print the result\n",
    "print(\"Result:\", result)"
   ]
  },
  {
   "cell_type": "code",
   "execution_count": 2,
   "metadata": {
    "tags": []
   },
   "outputs": [
    {
     "name": "stdout",
     "output_type": "stream",
     "text": [
      "120 minutes is equal to 2.0 hours.\n"
     ]
    }
   ],
   "source": [
    "# Define the number of minutes\n",
    "minutes = 120\n",
    "\n",
    "# Convert minutes to hours\n",
    "hours = minutes / 60\n",
    "\n",
    "# Print the result\n",
    "print(f\"{minutes} minutes is equal to {hours} hours.\")"
   ]
  },
  {
   "cell_type": "markdown",
   "metadata": {},
   "source": [
    "Objectives:\n",
    "* Understand the basic concepts of data analysis.\n",
    "* Learn how to manipulate data using Python libraries.\n",
    "* Explore data visualization techniques.\n",
    "* Develop skills in creating machine learning models."
   ]
  },
  {
   "cell_type": "markdown",
   "metadata": {},
   "source": [
    "# Jacob Lane"
   ]
  },
  {
   "cell_type": "code",
   "execution_count": null,
   "metadata": {},
   "outputs": [],
   "source": []
  }
 ],
 "metadata": {
  "kernelspec": {
   "display_name": "Python",
   "language": "python",
   "name": "conda-env-python-py"
  },
  "language_info": {
   "codemirror_mode": {
    "name": "ipython",
    "version": 3
   },
   "file_extension": ".py",
   "mimetype": "text/x-python",
   "name": "python",
   "nbconvert_exporter": "python",
   "pygments_lexer": "ipython3",
   "version": "3.7.12"
  }
 },
 "nbformat": 4,
 "nbformat_minor": 4
}
